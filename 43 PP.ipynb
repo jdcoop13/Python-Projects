{
 "cells": [
  {
   "cell_type": "code",
   "execution_count": 1,
   "id": "6114f002-0259-43f7-907e-58171d2606f1",
   "metadata": {},
   "outputs": [],
   "source": [
    "import pandas as pd\n",
    "import numpy as np\n",
    "import datetime as dt\n",
    "from datetime import datetime, timedelta\n",
    "from datetime import date\n",
    "import statistics as stat\n",
    "from scipy import stats as scstats\n",
    "import warnings\n",
    "warnings.filterwarnings('ignore')"
   ]
  },
  {
   "cell_type": "code",
   "execution_count": 3,
   "id": "1c799cdf-2f85-4b93-b631-b5655ff6c6a1",
   "metadata": {},
   "outputs": [
    {
     "name": "stdout",
     "output_type": "stream",
     "text": [
      "[66 68 71 64 61 74 64 65 70 71]\n"
     ]
    }
   ],
   "source": [
    "# Create a numpy array called ‘height in inches’ from a list 10 of numbers:\n",
    "# [66, 68, 71, 64, 61, 74, 64, 65, 70, 71].\n",
    "height_in_inches = np.array([66, 68, 71, 64, 61, 74, 64, 65, 70, 71])\n",
    "print(height_in_inches)"
   ]
  },
  {
   "cell_type": "code",
   "execution_count": 11,
   "id": "0adaa472-a492-4efe-b379-db00e7b6c495",
   "metadata": {},
   "outputs": [
    {
     "name": "stdout",
     "output_type": "stream",
     "text": [
      "[5.5        5.66666667 5.91666667 5.33333333 5.08333333 6.16666667\n",
      " 5.33333333 5.41666667 5.83333333 5.91666667]\n"
     ]
    }
   ],
   "source": [
    "# Create a new array called ‘height_in_feet’ and make its values equal to the values in the first array divided by 12.\n",
    "height_in_feet = (height_in_inches / 12)\n",
    "print(height_in_feet)"
   ]
  },
  {
   "cell_type": "code",
   "execution_count": 15,
   "id": "b542a760-b849-4761-825f-e8c6e682567d",
   "metadata": {},
   "outputs": [
    {
     "name": "stdout",
     "output_type": "stream",
     "text": [
      "[[0. 0. 0. 0. 0.]\n",
      " [0. 0. 0. 0. 0.]\n",
      " [0. 0. 0. 0. 0.]\n",
      " [0. 0. 0. 0. 0.]\n",
      " [0. 0. 0. 0. 0.]]\n"
     ]
    }
   ],
   "source": [
    "# Create a 5x5 array of zeros using np.zeros\n",
    "array_of_zeros = np.zeros((5,5))\n",
    "print(array_of_zeros)"
   ]
  },
  {
   "cell_type": "code",
   "execution_count": 23,
   "id": "6e9b6483-f512-4dd2-a526-28efdc9e78d6",
   "metadata": {},
   "outputs": [
    {
     "name": "stdout",
     "output_type": "stream",
     "text": [
      "[[90.27220575 62.20371027 58.80192322 58.15532428 19.48030483]\n",
      " [49.87966576 77.70387269 24.19098442 47.79120689  8.65502528]\n",
      " [ 6.83846207  7.54370277 12.1368484  52.52921319 42.93322886]\n",
      " [27.77057614 46.88921306 87.55234018 60.33039518 39.12920963]\n",
      " [88.51240981  2.36141384 31.04314032 64.18929943 62.13684203]]\n"
     ]
    }
   ],
   "source": [
    "# Create an array of random floating point numbers between 0 and 100.\n",
    "random_array = np.random.uniform(0,100, size = (5, 5))\n",
    "print(random_array)"
   ]
  },
  {
   "cell_type": "code",
   "execution_count": 37,
   "id": "d918783f-136c-4e46-9fea-c16f256b1c09",
   "metadata": {},
   "outputs": [
    {
     "name": "stdout",
     "output_type": "stream",
     "text": [
      "[ 0  5 10 15 20 25 30 35 40 45 50 55 60 65 70 75]\n"
     ]
    }
   ],
   "source": [
    "# Create an array of numbers from 0 to 75 in increments of 5.\n",
    "zero_to_seventy_five = np.arange(0, 80, 5)\n",
    "print(zero_to_seventy_five)"
   ]
  },
  {
   "cell_type": "code",
   "execution_count": 43,
   "id": "6df3c54e-d751-4f3f-8a66-93677a686f69",
   "metadata": {},
   "outputs": [
    {
     "name": "stdout",
     "output_type": "stream",
     "text": [
      "(7, 4)\n"
     ]
    }
   ],
   "source": [
    "# Part 2.\n",
    "# Using the array below:\n",
    "weather_data = np.array([\n",
    "[\"2023-07-01\", 30, 60, 0.1],\n",
    "[\"2023-07-02\", 31, 62, 0.2],\n",
    "[\"2023-07-03\", 29, 65, 0.0],\n",
    "[\"2023-07-04\", 33, 68, 0.5],\n",
    "[\"2023-07-05\", 34, 70, 0.3],\n",
    "[\"2023-07-06\", 32, 63, 0.1],\n",
    "[\"2023-07-07\", 30, 61, 0.0],\n",
    "])\n",
    "#  6. Provide the shape of the array\n",
    "print(weather_data.shape)"
   ]
  },
  {
   "cell_type": "code",
   "execution_count": 45,
   "id": "dece1c46-57b8-42d5-86e1-f460f4896e9a",
   "metadata": {},
   "outputs": [
    {
     "name": "stdout",
     "output_type": "stream",
     "text": [
      "['2023-07-07' '30' '61' '0.0']\n"
     ]
    }
   ],
   "source": [
    "#  7. Return the last array in the array\n",
    "print(weather_data[-1])"
   ]
  },
  {
   "cell_type": "code",
   "execution_count": 47,
   "id": "1ee2b8b5-aeaf-405b-bb4d-9470855928fa",
   "metadata": {},
   "outputs": [
    {
     "name": "stdout",
     "output_type": "stream",
     "text": [
      "2023-07-03\n"
     ]
    }
   ],
   "source": [
    "#  8. Find the day with the lowest temperature\n",
    "lowest_temp_day = weather_data[np.argmin(weather_data[:, 1].astype(int)), 0]\n",
    "print(lowest_temp_day)"
   ]
  }
 ],
 "metadata": {
  "kernelspec": {
   "display_name": "Python [conda env:base] *",
   "language": "python",
   "name": "conda-base-py"
  },
  "language_info": {
   "codemirror_mode": {
    "name": "ipython",
    "version": 3
   },
   "file_extension": ".py",
   "mimetype": "text/x-python",
   "name": "python",
   "nbconvert_exporter": "python",
   "pygments_lexer": "ipython3",
   "version": "3.12.7"
  }
 },
 "nbformat": 4,
 "nbformat_minor": 5
}
