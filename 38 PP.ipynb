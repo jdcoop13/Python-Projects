{
 "cells": [
  {
   "cell_type": "code",
   "execution_count": 1,
   "id": "29b4cb29-8eed-43e3-819f-b3727092ef19",
   "metadata": {},
   "outputs": [],
   "source": [
    "store1 = [5000, 3000, 15000, 8000]\n",
    "store2 = [5000, 6000, 4000, 2500]\n",
    "store3 = [3000, 7000, 2000, 1000]"
   ]
  },
  {
   "cell_type": "code",
   "execution_count": 31,
   "id": "069d1e09-6b9b-415c-a904-c52e26747416",
   "metadata": {},
   "outputs": [
    {
     "name": "stdout",
     "output_type": "stream",
     "text": [
      "31000\n"
     ]
    }
   ],
   "source": [
    "def calculate_total_sales(store1): \n",
    "    for num in store1:\n",
    "        print(sum(store1))\n",
    "        break\n",
    "calculate_total_sales(store1)"
   ]
  },
  {
   "cell_type": "code",
   "execution_count": 33,
   "id": "2efe72ed-a326-47a5-9efa-1e0b0e4e9b89",
   "metadata": {},
   "outputs": [
    {
     "name": "stdout",
     "output_type": "stream",
     "text": [
      "17500\n"
     ]
    }
   ],
   "source": [
    "def calculate_total_sales(store2): \n",
    "    for num in store2:\n",
    "        print(sum(store2))\n",
    "        break\n",
    "calculate_total_sales(store2)"
   ]
  },
  {
   "cell_type": "code",
   "execution_count": 35,
   "id": "79c711b2-c62f-4b35-b9bb-94033eb69eca",
   "metadata": {},
   "outputs": [
    {
     "name": "stdout",
     "output_type": "stream",
     "text": [
      "13000\n"
     ]
    }
   ],
   "source": [
    "def calculate_total_sales(store3): \n",
    "    for num in store3:\n",
    "        print(sum(store3))\n",
    "        break\n",
    "calculate_total_sales(store3)"
   ]
  },
  {
   "cell_type": "code",
   "execution_count": 81,
   "id": "953ca1d4-94db-43ad-a4f5-6d7514903c29",
   "metadata": {},
   "outputs": [
    {
     "name": "stdout",
     "output_type": "stream",
     "text": [
      "Store1 was the highest performing store at 31000\n"
     ]
    }
   ],
   "source": [
    "def find_highest_sales(store1, store2, store3):\n",
    "    if sum(store1) > sum(store2) and sum(store1) > sum(store3):\n",
    "        print('Store1 was the highest performing store at ' + str(sum(store1)))\n",
    "    elif sum(store2) > sum(store1) and sum(store2) > sum(store3):\n",
    "        print('Store2 was the highest performing store at ' + str(sum(store2)))\n",
    "    else: print('Store3 was the highest performing store at ' + str(sum(store3))) \n",
    "find_highest_sales(store1, store2, store3)"
   ]
  },
  {
   "cell_type": "code",
   "execution_count": 99,
   "id": "e39eea07-734a-4d4a-a362-b3be56f16757",
   "metadata": {},
   "outputs": [
    {
     "name": "stdout",
     "output_type": "stream",
     "text": [
      "The average sales of store 1 is: 7750.0\n",
      "The average sales of store 2 is: 4375.0\n",
      "The average sales of store 3 is: 3250.0\n"
     ]
    }
   ],
   "source": [
    "def calculate_average_sales(store1, store2, store3):\n",
    "    print('The average sales of store 1 is: ' + str((sum(store1) / len(store1)))),\n",
    "    print('The average sales of store 2 is: ' + str((sum(store2) / len(store2)))),\n",
    "    print('The average sales of store 3 is: ' + str((sum(store3) / len(store3))))\n",
    "calculate_average_sales(store1, store2, store3)"
   ]
  },
  {
   "cell_type": "code",
   "execution_count": null,
   "id": "b3451a70-e64d-4a99-998a-c94bb515326f",
   "metadata": {},
   "outputs": [],
   "source": []
  },
  {
   "cell_type": "code",
   "execution_count": null,
   "id": "9e81c9dd-530c-4992-8e55-e9147aee421d",
   "metadata": {},
   "outputs": [],
   "source": []
  },
  {
   "cell_type": "code",
   "execution_count": null,
   "id": "042987e6-a1be-47ce-aff6-f39b09f6e225",
   "metadata": {},
   "outputs": [],
   "source": []
  },
  {
   "cell_type": "code",
   "execution_count": null,
   "id": "193b0150-1481-4fc4-8ac0-fadf78f474b5",
   "metadata": {},
   "outputs": [],
   "source": []
  },
  {
   "cell_type": "code",
   "execution_count": null,
   "id": "76123a1d-1578-459d-8b8a-8e9da977ada2",
   "metadata": {},
   "outputs": [],
   "source": []
  },
  {
   "cell_type": "code",
   "execution_count": null,
   "id": "6d7e668e-65f4-4af3-a93d-ad5aef9f1b33",
   "metadata": {},
   "outputs": [],
   "source": []
  },
  {
   "cell_type": "code",
   "execution_count": null,
   "id": "f312dd4d-c8be-4539-a402-794ecd21864e",
   "metadata": {},
   "outputs": [],
   "source": []
  },
  {
   "cell_type": "code",
   "execution_count": null,
   "id": "0255e0e5-c636-4f57-9621-70bd037a9c41",
   "metadata": {},
   "outputs": [],
   "source": []
  },
  {
   "cell_type": "code",
   "execution_count": null,
   "id": "e84993d5-16cb-41bb-9261-8d18f8888742",
   "metadata": {},
   "outputs": [],
   "source": []
  },
  {
   "cell_type": "code",
   "execution_count": null,
   "id": "40c158f3-25fe-42c9-8e87-ce51efa51f16",
   "metadata": {},
   "outputs": [],
   "source": []
  },
  {
   "cell_type": "code",
   "execution_count": null,
   "id": "9a0bf127-d1a1-4453-87f2-87b7f738f665",
   "metadata": {},
   "outputs": [],
   "source": []
  },
  {
   "cell_type": "code",
   "execution_count": null,
   "id": "4e297293-6fd5-4906-b0f9-f4d4f7c8a2af",
   "metadata": {},
   "outputs": [],
   "source": []
  },
  {
   "cell_type": "code",
   "execution_count": null,
   "id": "f978d495-ec04-4e15-9bf6-0acdde98204b",
   "metadata": {},
   "outputs": [],
   "source": []
  },
  {
   "cell_type": "code",
   "execution_count": null,
   "id": "adb3e59f-db0d-44ee-a23a-095a383ce5d1",
   "metadata": {},
   "outputs": [],
   "source": []
  },
  {
   "cell_type": "code",
   "execution_count": null,
   "id": "781a8f05-36df-4f82-9b6f-6fab474e792d",
   "metadata": {},
   "outputs": [],
   "source": []
  }
 ],
 "metadata": {
  "kernelspec": {
   "display_name": "Python [conda env:base] *",
   "language": "python",
   "name": "conda-base-py"
  },
  "language_info": {
   "codemirror_mode": {
    "name": "ipython",
    "version": 3
   },
   "file_extension": ".py",
   "mimetype": "text/x-python",
   "name": "python",
   "nbconvert_exporter": "python",
   "pygments_lexer": "ipython3",
   "version": "3.12.7"
  }
 },
 "nbformat": 4,
 "nbformat_minor": 5
}
