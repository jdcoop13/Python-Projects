{
 "cells": [
  {
   "cell_type": "code",
   "execution_count": 51,
   "id": "e48baadd-7e39-478a-9d16-6532d6c25bbe",
   "metadata": {},
   "outputs": [],
   "source": [
    "#Import the required libraries and create the dataset\n",
    "import pandas as pd\n",
    "import numpy as np\n",
    "import datetime as dt\n",
    "from datetime import datetime, timedelta\n",
    "from datetime import date\n",
    "import statistics as stat\n",
    "from scipy import stats as scstats\n",
    "from scipy.stats import skew as skew\n",
    "import warnings\n",
    "warnings.filterwarnings('ignore')\n",
    "\n",
    "sales_data = pd.DataFrame({\n",
    "    'Product A': [235, 189, 340, 270, 305, 210, 320, 265, 315, 280, 250, 200],\n",
    "    'Product B': [320, 190, 340, 270, 310, 260, 315, 290, 320, 275, 230, 320],\n",
    "    'Product C': [270, 290, 280, 240, 260, 210, 200, 340, 295, 280, 260, 310]\n",
    "})"
   ]
  },
  {
   "cell_type": "code",
   "execution_count": 9,
   "id": "5dd7acbc-d0be-4419-8e77-6828032aac57",
   "metadata": {},
   "outputs": [
    {
     "data": {
      "text/plain": [
       "9854"
      ]
     },
     "execution_count": 9,
     "metadata": {},
     "output_type": "execute_result"
    }
   ],
   "source": [
    "# Calculate the total sales during the period covered by the dataset: Use Python to sum up the sales column in the dataset\n",
    "total_sales = sales_data.sum().sum()\n",
    "total_sales"
   ]
  },
  {
   "cell_type": "code",
   "execution_count": 31,
   "id": "4c5a063e-049f-4b07-8340-ac26be145e3e",
   "metadata": {},
   "outputs": [
    {
     "data": {
      "text/plain": [
       "273.72"
      ]
     },
     "execution_count": 31,
     "metadata": {},
     "output_type": "execute_result"
    }
   ],
   "source": [
    "# Find the average daily sales during this period: Calculate the mean of the daily sales values in the dataset\n",
    "avg_daily_sales = round(sales_data.mean().mean(),2)\n",
    "avg_daily_sales"
   ]
  },
  {
   "cell_type": "code",
   "execution_count": 25,
   "id": "31336698-5cc7-414f-aab3-a44264bbb8cb",
   "metadata": {},
   "outputs": [
    {
     "name": "stdout",
     "output_type": "stream",
     "text": [
      "Product A\n",
      "340\n"
     ]
    }
   ],
   "source": [
    "# Identify the best-selling product (highest sales) and its corresponding sales value: \n",
    "# Find the product with the highest sales value and note its sales value\n",
    "best_selling_product = sales_data.max().idxmax()\n",
    "print(best_selling_product)\n",
    "highest_sales_value = sales_data.max().max()\n",
    "print(highest_sales_value)"
   ]
  },
  {
   "cell_type": "code",
   "execution_count": 33,
   "id": "5127251a-55e5-45fe-ab3c-2d26233cac0f",
   "metadata": {},
   "outputs": [
    {
     "name": "stdout",
     "output_type": "stream",
     "text": [
      "Product A\n",
      "189\n"
     ]
    }
   ],
   "source": [
    "# Determine the worst-selling product (lowest sales) and its corresponding sales value: \n",
    "# Find the product with the lowest sales value and note its sales value\n",
    "worst_selling_product = sales_data.min().idxmin()\n",
    "print(worst_selling_product)\n",
    "worst_sales_value = sales_data.min().min()\n",
    "print(worst_sales_value)"
   ]
  },
  {
   "cell_type": "code",
   "execution_count": 37,
   "id": "6325b5be-f2ee-4113-9f73-c16635c94435",
   "metadata": {},
   "outputs": [
    {
     "data": {
      "text/plain": [
       "151"
      ]
     },
     "execution_count": 37,
     "metadata": {},
     "output_type": "execute_result"
    }
   ],
   "source": [
    "# Calculate the range of sales: Find the difference between the maximum and minimum sales values to understand the variability in the data.\n",
    "sales_range = sales_data.max().max() - sales_data.min().min()\n",
    "sales_range"
   ]
  },
  {
   "cell_type": "code",
   "execution_count": 45,
   "id": "5c44cff4-2f65-420c-ae5a-59c6062f43ed",
   "metadata": {},
   "outputs": [
    {
     "data": {
      "text/plain": [
       "43.72808092894536"
      ]
     },
     "execution_count": 45,
     "metadata": {},
     "output_type": "execute_result"
    }
   ],
   "source": [
    "# Compute the standard deviation of sales: Use Python to calculate the standard deviation of the sales values to assess the spread of sales values\n",
    "sales_std = sales_data.values.std()\n",
    "sales_std"
   ]
  },
  {
   "cell_type": "code",
   "execution_count": 95,
   "id": "5b4a89cb-bc22-40a1-a9f0-e4380203b71b",
   "metadata": {},
   "outputs": [
    {
     "data": {
      "text/plain": [
       "-0.3854015857690422"
      ]
     },
     "execution_count": 95,
     "metadata": {},
     "output_type": "execute_result"
    }
   ],
   "source": [
    "# Identify if the sales data is positively or negatively skewed: Use Python to calculate the skewness of the sales data\n",
    "sales_skewness = skew(sales_data.values.flatten())\n",
    "sales_skewness"
   ]
  },
  {
   "cell_type": "code",
   "execution_count": 97,
   "id": "392150bb-6174-4e39-b84a-fc079e046e75",
   "metadata": {},
   "outputs": [
    {
     "name": "stdout",
     "output_type": "stream",
     "text": [
      "273.72222222222223\n",
      "0.1597534923322542\n"
     ]
    }
   ],
   "source": [
    "# Calculate the coefficient of variation: Compute the coefficient of variation for  the sales data to compare the relative variability among products\n",
    "sales_mean = sales_data.values.mean()\n",
    "print(sales_mean)\n",
    "coefficient_of_variation = (sales_std / sales_mean)\n",
    "print(coefficient_of_variation)"
   ]
  },
  {
   "cell_type": "code",
   "execution_count": 83,
   "id": "373d8194-3632-4d88-9617-1bb0e1f1537e",
   "metadata": {},
   "outputs": [
    {
     "data": {
      "text/plain": [
       "247.5"
      ]
     },
     "execution_count": 83,
     "metadata": {},
     "output_type": "execute_result"
    }
   ],
   "source": [
    "# Determine the 25th percentile of sales: Use Python to calculate the 25th  percentile of the sales data \n",
    "percentile_25th = np.percentile(sales_data, 25)\n",
    "percentile_25th"
   ]
  },
  {
   "cell_type": "code",
   "execution_count": 107,
   "id": "430984d3-185a-4de0-af45-30c6fbcba2a9",
   "metadata": {},
   "outputs": [
    {
     "data": {
      "text/plain": [
       "63.75"
      ]
     },
     "execution_count": 107,
     "metadata": {},
     "output_type": "execute_result"
    }
   ],
   "source": [
    "# Compute the interquartile range (IQR): Calculate the difference between the  75th percentile and the 25th percentile of the sales data\n",
    "percentile_75th = np.percentile(sales_data, 75)\n",
    "iqr = percentile_75th - percentile_25th\n",
    "iqr"
   ]
  },
  {
   "cell_type": "code",
   "execution_count": null,
   "id": "8eefa2fd-c4d3-4772-bda9-b05a12384ad8",
   "metadata": {},
   "outputs": [],
   "source": [
    "# Summarize the result: Analyze the findings and draw conclusions about the sales data, including any trends, patterns, or outliers \n",
    "\n",
    "# Product B is the strongest performer because of its consistently high sales numbers\n",
    "# Product A might need a sales boost, because even though it had the highest selling product, it also had the lowest selling product\n",
    "# Sales trends are mostly stable, but there are occasional spikes that are probably just from certain marketing campaigns or different seasons"
   ]
  },
  {
   "cell_type": "code",
   "execution_count": null,
   "id": "7243b65b-8579-471b-8ddc-3f14853ad498",
   "metadata": {},
   "outputs": [],
   "source": []
  },
  {
   "cell_type": "code",
   "execution_count": null,
   "id": "8a20085d-254e-4297-a7b1-c508795e313d",
   "metadata": {},
   "outputs": [],
   "source": []
  },
  {
   "cell_type": "code",
   "execution_count": null,
   "id": "f7c0d06c-5875-422c-b5d7-d0fac9e77c91",
   "metadata": {},
   "outputs": [],
   "source": []
  },
  {
   "cell_type": "code",
   "execution_count": null,
   "id": "d7633ac8-de53-47c5-b233-f3568ba60cc7",
   "metadata": {},
   "outputs": [],
   "source": []
  },
  {
   "cell_type": "code",
   "execution_count": null,
   "id": "aef7051e-163c-488e-b354-909806322464",
   "metadata": {},
   "outputs": [],
   "source": []
  },
  {
   "cell_type": "code",
   "execution_count": null,
   "id": "01ed8964-372d-49f0-a0a3-cc71412eb9ab",
   "metadata": {},
   "outputs": [],
   "source": []
  },
  {
   "cell_type": "code",
   "execution_count": null,
   "id": "859db3b6-1c23-4e85-b808-93107c5b7ff5",
   "metadata": {},
   "outputs": [],
   "source": []
  },
  {
   "cell_type": "code",
   "execution_count": null,
   "id": "345ba4c2-ee82-44db-a77f-16c6f758a433",
   "metadata": {},
   "outputs": [],
   "source": []
  }
 ],
 "metadata": {
  "kernelspec": {
   "display_name": "Python [conda env:base] *",
   "language": "python",
   "name": "conda-base-py"
  },
  "language_info": {
   "codemirror_mode": {
    "name": "ipython",
    "version": 3
   },
   "file_extension": ".py",
   "mimetype": "text/x-python",
   "name": "python",
   "nbconvert_exporter": "python",
   "pygments_lexer": "ipython3",
   "version": "3.12.7"
  }
 },
 "nbformat": 4,
 "nbformat_minor": 5
}
